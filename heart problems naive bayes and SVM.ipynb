{
 "cells": [
  {
   "cell_type": "markdown",
   "metadata": {},
   "source": [
    "# Importing necessary libraries and packages\n"
   ]
  },
  {
   "cell_type": "code",
   "execution_count": 1,
   "metadata": {},
   "outputs": [],
   "source": [
    "import pandas\n",
    "import numpy\n",
    "from sklearn.naive_bayes import GaussianNB\n",
    "from sklearn import metrics\n",
    "from sklearn.svm import SVC"
   ]
  },
  {
   "cell_type": "code",
   "execution_count": 2,
   "metadata": {},
   "outputs": [
    {
     "name": "stdout",
     "output_type": "stream",
     "text": [
      "Accuracy: 81.50470219435736\n"
     ]
    }
   ],
   "source": [
    "\n",
    "# Loading data\n",
    "FH_data = pandas.read_csv(r\"fetal_health.csv\")\n",
    "FH_df = pandas.DataFrame(FH_data)\n",
    "FH_df_test = FH_df.sample(frac = 0.3, random_state = 1)\n",
    "FH_df_train = pandas.concat([FH_df, FH_df_test]).drop_duplicates(keep=False)\n",
    "\n",
    "# Preparing train data\n",
    "FH_x_train = FH_df_train.drop(['fetal_health'], axis=1)\n",
    "FH_y_train = FH_df_train['fetal_health']\n",
    "\n",
    "# Preparing test data\n",
    "FH_x_test = FH_df_test.drop(['fetal_health'], axis=1)\n",
    "FH_y_test = FH_df_test['fetal_health']\n",
    "\n",
    "# Buidling model\n",
    "model = GaussianNB()\n",
    "model.fit(FH_x_train, FH_y_train)\n",
    "FH_y_pred = model.predict(FH_x_test)\n",
    "print(\"Accuracy:\", metrics.accuracy_score(FH_y_test, FH_y_pred)*100)"
   ]
  },
  {
   "cell_type": "markdown",
   "metadata": {},
   "source": [
    "# SVM"
   ]
  },
  {
   "cell_type": "code",
   "execution_count": 3,
   "metadata": {},
   "outputs": [
    {
     "name": "stdout",
     "output_type": "stream",
     "text": [
      "Accuracy: 82.22222222222221\n"
     ]
    }
   ],
   "source": [
    "# Problem 2\n",
    "\n",
    "HF_data = pandas.read_csv(\"heart_failure_clinical_records_dataset.csv\")\n",
    "HF_df = pandas.DataFrame(HF_data)\n",
    "HF_df_test = HF_df.sample(frac = 0.3)\n",
    "HF_df_train = pandas.concat([HF_df, HF_df_test]).drop_duplicates(keep=False)\n",
    "\n",
    "# Preparing train data\n",
    "HF_x_train = HF_df_train.drop(['DEATH_EVENT'], axis=1)\n",
    "HF_y_train = HF_df_train['DEATH_EVENT']\n",
    "\n",
    "# Preparing test data\n",
    "HF_x_test = HF_df_test.drop(['DEATH_EVENT'], axis=1)\n",
    "HF_y_test = HF_df_test['DEATH_EVENT']\n",
    "\n",
    "# Buidling model\n",
    "svc = SVC(kernel = 'linear',C=20,gamma=0.001) \n",
    "svc.fit(HF_x_train, HF_y_train)\n",
    "HF_y_pred = svc.predict(HF_x_test)\n",
    "print(\"Accuracy:\", metrics.accuracy_score(HF_y_test, HF_y_pred)*100)"
   ]
  },
  {
   "cell_type": "code",
   "execution_count": null,
   "metadata": {},
   "outputs": [],
   "source": []
  }
 ],
 "metadata": {
  "kernelspec": {
   "display_name": "Python 3",
   "language": "python",
   "name": "python3"
  },
  "language_info": {
   "codemirror_mode": {
    "name": "ipython",
    "version": 3
   },
   "file_extension": ".py",
   "mimetype": "text/x-python",
   "name": "python",
   "nbconvert_exporter": "python",
   "pygments_lexer": "ipython3",
   "version": "3.8.5"
  }
 },
 "nbformat": 4,
 "nbformat_minor": 4
}
